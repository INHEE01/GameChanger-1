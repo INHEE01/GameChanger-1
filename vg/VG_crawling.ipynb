{
 "cells": [
  {
   "cell_type": "code",
   "execution_count": 99,
   "metadata": {
    "executionInfo": {
     "elapsed": 1884,
     "status": "ok",
     "timestamp": 1681011770665,
     "user": {
      "displayName": "송종빈",
      "userId": "09965971484093660989"
     },
     "user_tz": -540
    },
    "id": "XsN-jhru-4ek"
   },
   "outputs": [],
   "source": [
    "import pandas as pd\n",
    "import numpy as np\n",
    "\n",
    "import plotly.graph_objects as go\n",
    "import plotly.express as px\n",
    "\n",
    "import urllib.request\n",
    "from bs4 import BeautifulSoup\n",
    "from selenium import webdriver\n",
    "from selenium.webdriver.support.ui import Select\n",
    "from selenium.webdriver.common.by import By\n",
    "from selenium.webdriver.common.keys import Keys\n",
    "from selenium.webdriver.chrome.options import Options\n",
    "\n",
    "import re\n",
    "import time\n",
    "import os"
   ]
  },
  {
   "cell_type": "code",
   "execution_count": 100,
   "metadata": {},
   "outputs": [],
   "source": [
    "def change_estimated_revenue_to_int(text):\n",
    "    match = re.match(r'\\$(\\d+(?:\\.\\d+)?)([mkb]?)', text)\n",
    "    if not match:\n",
    "        raise ValueError('Invalid string format')\n",
    "        \n",
    "    value = float(match.group(1))\n",
    "    suffix = match.group(2)\n",
    "\n",
    "    if suffix == 'k':\n",
    "        multiplier = 1000\n",
    "    elif suffix == 'm':\n",
    "        multiplier = 1000000\n",
    "    elif suffix == 'b':\n",
    "        multiplier = 1000000000\n",
    "    else:\n",
    "        multiplier = 1\n",
    "        \n",
    "    return int(value * multiplier)\n",
    "\n",
    "def change_estimated_units_sold_to_int(text):\n",
    "    match = re.match(r'(\\d+(?:\\.\\d+)?)([mkb]?)', text)\n",
    "    if not match:\n",
    "        raise ValueError('Invalid string format')\n",
    "        \n",
    "    value = float(match.group(1))\n",
    "    suffix = match.group(2)\n",
    "\n",
    "    if suffix == 'k':\n",
    "        multiplier = 1000\n",
    "    elif suffix == 'm':\n",
    "        multiplier = 1000000\n",
    "    elif suffix == 'b':\n",
    "        multiplier = 1000000000\n",
    "    else:\n",
    "        multiplier = 1\n",
    "        \n",
    "    return int(value * multiplier)\n",
    "\n",
    "def change_number_of_reviews_to_int(text):\n",
    "    review_number = re.sub(r',', '', text)\n",
    "    return int(review_number)\n",
    "\n",
    "def change_steam_rating_to_float(text):\n",
    "    match = re.match(r'^([\\d\\.]+)%$', text)\n",
    "    if not match:\n",
    "        raise ValueError('Invalid percentage string format')\n",
    "\n",
    "    return float(match.group(1)) / 100"
   ]
  },
  {
   "cell_type": "code",
   "execution_count": 101,
   "metadata": {
    "executionInfo": {
     "elapsed": 3668,
     "status": "ok",
     "timestamp": 1681012098341,
     "user": {
      "displayName": "송종빈",
      "userId": "09965971484093660989"
     },
     "user_tz": -540
    },
    "id": "14ZG_Ctj-30U"
   },
   "outputs": [],
   "source": [
    "df = pd.read_csv('cleaned_games.csv')\n",
    "game_id_list = df['AppID'].tolist() # 58851\n",
    "game_name_list = df['Name'].tolist()\n",
    "\n",
    "# sample\n",
    "# game_id_list = game_id_list[:5]\n",
    "# game_name_list = game_name_list[:5]\n",
    "\n",
    "name_in_vg_list = []\n",
    "estimated_revenue_list = []\n",
    "estimated_units_sold_list = []\n",
    "number_of_reviews_list = []\n",
    "steam_rating_list = []\n",
    "\n",
    "checkpoint_interval = 1000  # Save the data every 1000 iterations."
   ]
  },
  {
   "cell_type": "code",
   "execution_count": 102,
   "metadata": {},
   "outputs": [
    {
     "name": "stderr",
     "output_type": "stream",
     "text": [
      "C:\\Users\\JongbeenSong\\AppData\\Local\\Temp\\ipykernel_37272\\928016153.py:8: DeprecationWarning: executable_path has been deprecated, please pass in a Service object\n",
      "  browser = webdriver.Chrome(executable_path=webdriver_path, options=chrome_options)\n"
     ]
    }
   ],
   "source": [
    "webdriver_path = 'chromedriver.exe'\n",
    "url = 'https://vginsights.com/games-database'\n",
    "\n",
    "chrome_options = Options()\n",
    "chrome_options.add_argument('--headless')\n",
    "chrome_options.add_argument('--disable-gpu')  # Required on Windows\n",
    "\n",
    "browser = webdriver.Chrome(executable_path=webdriver_path, options=chrome_options)\n",
    "browser.get(url)\n",
    "html = browser.page_source\n",
    "soupVG = BeautifulSoup(html, 'html.parser')"
   ]
  },
  {
   "cell_type": "code",
   "execution_count": 103,
   "metadata": {},
   "outputs": [
    {
     "name": "stdout",
     "output_type": "stream",
     "text": [
      "Checkpoint saved: vg_data_temp_1000.csv\n"
     ]
    },
    {
     "ename": "WebDriverException",
     "evalue": "Message: unknown error: ChromeDriver only supports characters in the BMP\n  (Session info: headless chrome=111.0.5563.147)\nStacktrace:\nBacktrace:\n\t(No symbol) [0x00BEDCE3]\n\t(No symbol) [0x00B839D1]\n\t(No symbol) [0x00A94DA8]\n\t(No symbol) [0x00AE8084]\n\t(No symbol) [0x00ABBF2A]\n\t(No symbol) [0x00ABB830]\n\t(No symbol) [0x00ADAECC]\n\t(No symbol) [0x00AB8726]\n\t(No symbol) [0x00ADB224]\n\t(No symbol) [0x00AED57C]\n\t(No symbol) [0x00ADACC6]\n\t(No symbol) [0x00AB6F68]\n\t(No symbol) [0x00AB80CD]\n\tGetHandleVerifier [0x00E63832+2506274]\n\tGetHandleVerifier [0x00E99794+2727300]\n\tGetHandleVerifier [0x00E9E36C+2746716]\n\tGetHandleVerifier [0x00C96690+617600]\n\t(No symbol) [0x00B8C712]\n\t(No symbol) [0x00B91FF8]\n\t(No symbol) [0x00B920DB]\n\t(No symbol) [0x00B9C63B]\n\tBaseThreadInitThunk [0x76447D69+25]\n\tRtlInitializeExceptionChain [0x770EB74B+107]\n\tRtlClearBits [0x770EB6CF+191]\n",
     "output_type": "error",
     "traceback": [
      "\u001b[1;31m---------------------------------------------------------------------------\u001b[0m",
      "\u001b[1;31mWebDriverException\u001b[0m                        Traceback (most recent call last)",
      "Input \u001b[1;32mIn [103]\u001b[0m, in \u001b[0;36m<cell line: 1>\u001b[1;34m()\u001b[0m\n\u001b[0;32m      2\u001b[0m search_box_element \u001b[38;5;241m=\u001b[39m browser\u001b[38;5;241m.\u001b[39mfind_element(By\u001b[38;5;241m.\u001b[39mID, \u001b[38;5;124m'\u001b[39m\u001b[38;5;124mmat-input-1\u001b[39m\u001b[38;5;124m'\u001b[39m)\n\u001b[0;32m      3\u001b[0m search_box_element\u001b[38;5;241m.\u001b[39mclear()\n\u001b[1;32m----> 4\u001b[0m \u001b[43msearch_box_element\u001b[49m\u001b[38;5;241;43m.\u001b[39;49m\u001b[43msend_keys\u001b[49m\u001b[43m(\u001b[49m\u001b[43mgame_name\u001b[49m\u001b[43m)\u001b[49m\n\u001b[0;32m      5\u001b[0m time\u001b[38;5;241m.\u001b[39msleep(\u001b[38;5;241m2\u001b[39m)\n\u001b[0;32m      7\u001b[0m \u001b[38;5;28;01mtry\u001b[39;00m:\n",
      "File \u001b[1;32m~\\anaconda3\\lib\\site-packages\\selenium\\webdriver\\remote\\webelement.py:230\u001b[0m, in \u001b[0;36mWebElement.send_keys\u001b[1;34m(self, *value)\u001b[0m\n\u001b[0;32m    227\u001b[0m             remote_files\u001b[38;5;241m.\u001b[39mappend(\u001b[38;5;28mself\u001b[39m\u001b[38;5;241m.\u001b[39m_upload(file))\n\u001b[0;32m    228\u001b[0m         value \u001b[38;5;241m=\u001b[39m \u001b[38;5;124m\"\u001b[39m\u001b[38;5;130;01m\\n\u001b[39;00m\u001b[38;5;124m\"\u001b[39m\u001b[38;5;241m.\u001b[39mjoin(remote_files)\n\u001b[1;32m--> 230\u001b[0m \u001b[38;5;28;43mself\u001b[39;49m\u001b[38;5;241;43m.\u001b[39;49m\u001b[43m_execute\u001b[49m\u001b[43m(\u001b[49m\n\u001b[0;32m    231\u001b[0m \u001b[43m    \u001b[49m\u001b[43mCommand\u001b[49m\u001b[38;5;241;43m.\u001b[39;49m\u001b[43mSEND_KEYS_TO_ELEMENT\u001b[49m\u001b[43m,\u001b[49m\u001b[43m \u001b[49m\u001b[43m{\u001b[49m\u001b[38;5;124;43m\"\u001b[39;49m\u001b[38;5;124;43mtext\u001b[39;49m\u001b[38;5;124;43m\"\u001b[39;49m\u001b[43m:\u001b[49m\u001b[43m \u001b[49m\u001b[38;5;124;43m\"\u001b[39;49m\u001b[38;5;124;43m\"\u001b[39;49m\u001b[38;5;241;43m.\u001b[39;49m\u001b[43mjoin\u001b[49m\u001b[43m(\u001b[49m\u001b[43mkeys_to_typing\u001b[49m\u001b[43m(\u001b[49m\u001b[43mvalue\u001b[49m\u001b[43m)\u001b[49m\u001b[43m)\u001b[49m\u001b[43m,\u001b[49m\u001b[43m \u001b[49m\u001b[38;5;124;43m\"\u001b[39;49m\u001b[38;5;124;43mvalue\u001b[39;49m\u001b[38;5;124;43m\"\u001b[39;49m\u001b[43m:\u001b[49m\u001b[43m \u001b[49m\u001b[43mkeys_to_typing\u001b[49m\u001b[43m(\u001b[49m\u001b[43mvalue\u001b[49m\u001b[43m)\u001b[49m\u001b[43m}\u001b[49m\n\u001b[0;32m    232\u001b[0m \u001b[43m\u001b[49m\u001b[43m)\u001b[49m\n",
      "File \u001b[1;32m~\\anaconda3\\lib\\site-packages\\selenium\\webdriver\\remote\\webelement.py:403\u001b[0m, in \u001b[0;36mWebElement._execute\u001b[1;34m(self, command, params)\u001b[0m\n\u001b[0;32m    401\u001b[0m     params \u001b[38;5;241m=\u001b[39m {}\n\u001b[0;32m    402\u001b[0m params[\u001b[38;5;124m\"\u001b[39m\u001b[38;5;124mid\u001b[39m\u001b[38;5;124m\"\u001b[39m] \u001b[38;5;241m=\u001b[39m \u001b[38;5;28mself\u001b[39m\u001b[38;5;241m.\u001b[39m_id\n\u001b[1;32m--> 403\u001b[0m \u001b[38;5;28;01mreturn\u001b[39;00m \u001b[38;5;28;43mself\u001b[39;49m\u001b[38;5;241;43m.\u001b[39;49m\u001b[43m_parent\u001b[49m\u001b[38;5;241;43m.\u001b[39;49m\u001b[43mexecute\u001b[49m\u001b[43m(\u001b[49m\u001b[43mcommand\u001b[49m\u001b[43m,\u001b[49m\u001b[43m \u001b[49m\u001b[43mparams\u001b[49m\u001b[43m)\u001b[49m\n",
      "File \u001b[1;32m~\\anaconda3\\lib\\site-packages\\selenium\\webdriver\\remote\\webdriver.py:440\u001b[0m, in \u001b[0;36mWebDriver.execute\u001b[1;34m(self, driver_command, params)\u001b[0m\n\u001b[0;32m    438\u001b[0m response \u001b[38;5;241m=\u001b[39m \u001b[38;5;28mself\u001b[39m\u001b[38;5;241m.\u001b[39mcommand_executor\u001b[38;5;241m.\u001b[39mexecute(driver_command, params)\n\u001b[0;32m    439\u001b[0m \u001b[38;5;28;01mif\u001b[39;00m response:\n\u001b[1;32m--> 440\u001b[0m     \u001b[38;5;28;43mself\u001b[39;49m\u001b[38;5;241;43m.\u001b[39;49m\u001b[43merror_handler\u001b[49m\u001b[38;5;241;43m.\u001b[39;49m\u001b[43mcheck_response\u001b[49m\u001b[43m(\u001b[49m\u001b[43mresponse\u001b[49m\u001b[43m)\u001b[49m\n\u001b[0;32m    441\u001b[0m     response[\u001b[38;5;124m\"\u001b[39m\u001b[38;5;124mvalue\u001b[39m\u001b[38;5;124m\"\u001b[39m] \u001b[38;5;241m=\u001b[39m \u001b[38;5;28mself\u001b[39m\u001b[38;5;241m.\u001b[39m_unwrap_value(response\u001b[38;5;241m.\u001b[39mget(\u001b[38;5;124m\"\u001b[39m\u001b[38;5;124mvalue\u001b[39m\u001b[38;5;124m\"\u001b[39m, \u001b[38;5;28;01mNone\u001b[39;00m))\n\u001b[0;32m    442\u001b[0m     \u001b[38;5;28;01mreturn\u001b[39;00m response\n",
      "File \u001b[1;32m~\\anaconda3\\lib\\site-packages\\selenium\\webdriver\\remote\\errorhandler.py:245\u001b[0m, in \u001b[0;36mErrorHandler.check_response\u001b[1;34m(self, response)\u001b[0m\n\u001b[0;32m    243\u001b[0m         alert_text \u001b[38;5;241m=\u001b[39m value[\u001b[38;5;124m\"\u001b[39m\u001b[38;5;124malert\u001b[39m\u001b[38;5;124m\"\u001b[39m]\u001b[38;5;241m.\u001b[39mget(\u001b[38;5;124m\"\u001b[39m\u001b[38;5;124mtext\u001b[39m\u001b[38;5;124m\"\u001b[39m)\n\u001b[0;32m    244\u001b[0m     \u001b[38;5;28;01mraise\u001b[39;00m exception_class(message, screen, stacktrace, alert_text)  \u001b[38;5;66;03m# type: ignore[call-arg]  # mypy is not smart enough here\u001b[39;00m\n\u001b[1;32m--> 245\u001b[0m \u001b[38;5;28;01mraise\u001b[39;00m exception_class(message, screen, stacktrace)\n",
      "\u001b[1;31mWebDriverException\u001b[0m: Message: unknown error: ChromeDriver only supports characters in the BMP\n  (Session info: headless chrome=111.0.5563.147)\nStacktrace:\nBacktrace:\n\t(No symbol) [0x00BEDCE3]\n\t(No symbol) [0x00B839D1]\n\t(No symbol) [0x00A94DA8]\n\t(No symbol) [0x00AE8084]\n\t(No symbol) [0x00ABBF2A]\n\t(No symbol) [0x00ABB830]\n\t(No symbol) [0x00ADAECC]\n\t(No symbol) [0x00AB8726]\n\t(No symbol) [0x00ADB224]\n\t(No symbol) [0x00AED57C]\n\t(No symbol) [0x00ADACC6]\n\t(No symbol) [0x00AB6F68]\n\t(No symbol) [0x00AB80CD]\n\tGetHandleVerifier [0x00E63832+2506274]\n\tGetHandleVerifier [0x00E99794+2727300]\n\tGetHandleVerifier [0x00E9E36C+2746716]\n\tGetHandleVerifier [0x00C96690+617600]\n\t(No symbol) [0x00B8C712]\n\t(No symbol) [0x00B91FF8]\n\t(No symbol) [0x00B920DB]\n\t(No symbol) [0x00B9C63B]\n\tBaseThreadInitThunk [0x76447D69+25]\n\tRtlInitializeExceptionChain [0x770EB74B+107]\n\tRtlClearBits [0x770EB6CF+191]\n"
     ]
    }
   ],
   "source": [
    "for i, game_name in enumerate(game_name_list):\n",
    "    search_box_element = browser.find_element(By.ID, 'mat-input-1')\n",
    "    search_box_element.clear()\n",
    "    search_box_element.send_keys(game_name)\n",
    "    time.sleep(2)\n",
    "\n",
    "    try:\n",
    "        name_in_vg_list_element = browser.find_element(By.XPATH, '/html/body/app-root/mat-sidenav-container/mat-sidenav-content/app-games-database/div/div/div[2]/div[2]/mat-card/mat-card-content/p-table/div/div[1]/table/tbody/tr[1]/td[2]')\n",
    "        estimated_revenue_element = browser.find_element(By.XPATH, '/html/body/app-root/mat-sidenav-container/mat-sidenav-content/app-games-database/div/div/div[2]/div[2]/mat-card/mat-card-content/p-table/div/div[1]/table/tbody/tr[1]/td[5]')\n",
    "        estimated_units_sold_element = browser.find_element(By.XPATH, '/html/body/app-root/mat-sidenav-container/mat-sidenav-content/app-games-database/div/div/div[2]/div[2]/mat-card/mat-card-content/p-table/div/div[1]/table/tbody/tr[1]/td[6]')\n",
    "        number_of_reviews_element = browser.find_element(By.XPATH, '/html/body/app-root/mat-sidenav-container/mat-sidenav-content/app-games-database/div/div/div[2]/div[2]/mat-card/mat-card-content/p-table/div/div[1]/table/tbody/tr[1]/td[7]')\n",
    "        steam_rating_element = browser.find_element(By.XPATH, '/html/body/app-root/mat-sidenav-container/mat-sidenav-content/app-games-database/div/div/div[2]/div[2]/mat-card/mat-card-content/p-table/div/div[1]/table/tbody/tr[1]/td[8]')\n",
    "        \n",
    "        name_in_vg = name_in_vg_list_element.text\n",
    "        estimated_revenue = estimated_revenue_element.text\n",
    "        estimated_units_sold = estimated_units_sold_element.text\n",
    "        number_of_reviews = number_of_reviews_element.text\n",
    "        steam_rating = steam_rating_element.text\n",
    "\n",
    "        estimated_revenue = change_estimated_revenue_to_int(estimated_revenue)\n",
    "        estimated_units_sold = change_estimated_units_sold_to_int(estimated_units_sold)\n",
    "        number_of_reviews = change_number_of_reviews_to_int(number_of_reviews)\n",
    "        steam_rating = change_steam_rating_to_float(steam_rating)\n",
    "\n",
    "        name_in_vg_list.append(name_in_vg)\n",
    "        estimated_revenue_list.append(estimated_revenue)\n",
    "        estimated_units_sold_list.append(estimated_units_sold)\n",
    "        number_of_reviews_list.append(number_of_reviews)\n",
    "        steam_rating_list.append(steam_rating)\n",
    "    \n",
    "    except:\n",
    "        name_in_vg_list.append('NULL')\n",
    "        estimated_revenue_list.append('NULL')\n",
    "        estimated_units_sold_list.append('NULL')\n",
    "        number_of_reviews_list.append('NULL')\n",
    "        steam_rating_list.append('NULL')\n",
    "        \n",
    "    if (i + 1) % checkpoint_interval == 0 or i == len(game_name_list) - 1:\n",
    "        data = {\n",
    "            'game_id': game_id_list[:i + 1],\n",
    "            'game_name': game_name_list[:i + 1],\n",
    "            'name_in_vg': name_in_vg_list,\n",
    "            'estimated_revenue': estimated_revenue_list,\n",
    "            'estimated_units_sold': estimated_units_sold_list,\n",
    "            'number_of_reviews': number_of_reviews_list,\n",
    "            'steam_rating': steam_rating_list\n",
    "        }\n",
    "        vg_df_temp = pd.DataFrame(data)\n",
    "        temp_filename = f'vg_data_temp_{i + 1}.csv'\n",
    "        vg_df_temp.to_csv(temp_filename, encoding=\"utf-8\", mode=\"w\", index=False)\n",
    "        print(f\"Checkpoint saved: {temp_filename}\")\n"
   ]
  },
  {
   "cell_type": "code",
   "execution_count": null,
   "metadata": {},
   "outputs": [],
   "source": [
    "data = {'game_id': game_id_list, 'game_name': game_name_list, 'name_in_vg': name_in_vg_list, 'estimated_revenue': estimated_revenue_list, 'estimated_units_sold': estimated_units_sold_list, 'number_of_reviews': number_of_reviews_list, 'steam_rating': steam_rating_list}\n",
    "vg_df = pd.DataFrame(data)\n",
    "vg_df.to_csv('vg_data.csv', encoding = \"utf-8\", mode = \"w\", index = False)"
   ]
  },
  {
   "cell_type": "code",
   "execution_count": null,
   "metadata": {},
   "outputs": [],
   "source": []
  }
 ],
 "metadata": {
  "colab": {
   "authorship_tag": "ABX9TyPqzN/NdMh4KJ700YbXwWEu",
   "provenance": []
  },
  "kernelspec": {
   "display_name": "Python 3 (ipykernel)",
   "language": "python",
   "name": "python3"
  },
  "language_info": {
   "codemirror_mode": {
    "name": "ipython",
    "version": 3
   },
   "file_extension": ".py",
   "mimetype": "text/x-python",
   "name": "python",
   "nbconvert_exporter": "python",
   "pygments_lexer": "ipython3",
   "version": "3.9.12"
  }
 },
 "nbformat": 4,
 "nbformat_minor": 1
}
